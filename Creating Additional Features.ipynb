{
 "cells": [
  {
   "cell_type": "markdown",
   "metadata": {},
   "source": [
    "## Creating Additional Features\n",
    "\n",
    "After we add the blight, calls, and crime data, we then run counts of the total number of records associated with each building address, and counts for some of the more prominent characteristics. We will move this dataset into R for doing the statistical modeling. "
   ]
  },
  {
   "cell_type": "code",
   "execution_count": 1,
   "metadata": {
    "collapsed": true
   },
   "outputs": [],
   "source": [
    "import pandas as pd"
   ]
  },
  {
   "cell_type": "code",
   "execution_count": 10,
   "metadata": {
    "collapsed": true
   },
   "outputs": [],
   "source": [
    "df_analysis = pd.read_csv('~/Projects/datasci_course_materials/capstone/blight/data/analysis_full.csv' )"
   ]
  },
  {
   "cell_type": "code",
   "execution_count": 14,
   "metadata": {
    "collapsed": false
   },
   "outputs": [],
   "source": [
    "df_analysis['BLIGHT_COUNT'] = df_analysis.apply(lambda row: len(row['BLIGHT_LIST']), axis=1)   \n",
    "df_analysis['BLIGHT_COMPLIANCE'] = df_analysis.apply(lambda row: row['BLIGHT_LIST'].count('Failure of owner to obtain certificate of compliance'), axis=1)   \n",
    "df_analysis['BLIGHT_WASTE'] = df_analysis.apply(lambda row: row['BLIGHT_LIST'].count('Failure of owner to keep property, its sidewalks, or adjoining public property free from solid waste'), axis=1)\n",
    "df_analysis['BLIGHT_REGISTRATION'] = df_analysis.apply(lambda row: row['BLIGHT_LIST'].count('Failure to obtain certificate of registration for rental property'), axis=1)\n",
    "df_analysis['BLIGHT_WASTEACCUMULULATE'] = df_analysis.apply(lambda row: row['BLIGHT_LIST'].count('Allowing bulk solid waste to lie or accumulate on or about the premises'), axis=1)\n",
    "df_analysis['BLIGHT_WEEDS'] = df_analysis.apply(lambda row: row['BLIGHT_LIST'].count('Excessive weeds or plant growth one- or two-family dwelling or commercial Building'), axis=1)"
   ]
  },
  {
   "cell_type": "code",
   "execution_count": 11,
   "metadata": {
    "collapsed": true
   },
   "outputs": [],
   "source": [
    "df_analysis['CALLS_COUNT'] = df_analysis.apply(lambda row: len(row['CALL_LIST']), axis=1)                                       \n",
    "df_analysis['CALLS_DUMPING'] = df_analysis.apply(lambda row: row['CALL_LIST'].count('Illegal Dumping / Illegal Dump Sites'), axis=1)                                       \n",
    "df_analysis['CALLS_POTHOLES'] = df_analysis.apply(lambda row: row['CALL_LIST'].count('Potholes'), axis=1)                                       \n",
    "df_analysis['CALLS_WATER'] = df_analysis.apply(lambda row: row['CALL_LIST'].count('Running Water in a Home or Building'), axis=1)                                       \n",
    "df_analysis['CALLS_ABANDONED'] = df_analysis.apply(lambda row: row['CALL_LIST'].count('Abandoned Vehicle'), axis=1)                                       \n",
    "df_analysis['CALLS_TREE'] = df_analysis.apply(lambda row: row['CALL_LIST'].count('Tree Issue'), axis=1)                                       \n",
    "df_analysis['CALLS_CLOGGED'] = df_analysis.apply(lambda row: row['CALL_LIST'].count('Clogged Drain'), axis=1)                                       \n",
    "df_analysis['CALLS_TRASH'] = df_analysis.apply(lambda row: row['CALL_LIST'].count('Trash Issue - Bulk waste deposited more than 24 hours before designated time'), axis=1)                                       \n",
    "df_analysis['CALLS_DPW'] = df_analysis.apply(lambda row: row['CALL_LIST'].count('DPW - Debris Removal'), axis=1)                                       \n",
    "df_analysis['CALLS_TRAFFICSIGN'] = df_analysis.apply(lambda row: row['CALL_LIST'].count('Traffic Sign Issue'), axis=1)                                       \n",
    "df_analysis['CALLS_WATERMAIN'] = df_analysis.apply(lambda row: row['CALL_LIST'].count('Water Main Break'), axis=1)                                       \n",
    "df_analysis['CALLS_TRAFFICSIGNAL'] = df_analysis.apply(lambda row: row['CALL_LIST'].count('Traffic Signal Issue'), axis=1)                                                                                                                                                  \n",
    "df_analysis['CALLS_STREETLIGHT'] = df_analysis.apply(lambda row: row['CALL_LIST'].count('Street Light Pole Down'), axis=1)                                                                                                                                                  \n",
    "df_analysis['CALLS_MANHOLE'] = df_analysis.apply(lambda row: row['CALL_LIST'].count('Manhole Cover Issue'), axis=1)                                                                                                                                                  \n",
    "df_analysis['CALLS_HYDRANT'] = df_analysis.apply(lambda row: row['CALL_LIST'].count('Fire Hydrant Issue'), axis=1)                                                                                                                                                  "
   ]
  },
  {
   "cell_type": "code",
   "execution_count": 15,
   "metadata": {
    "collapsed": true
   },
   "outputs": [],
   "source": [
    "df_analysis['CRIME_COUNT'] = df_analysis.apply(lambda row: len(row['CRIME_LIST']), axis=1)   \n",
    "df_analysis['CRIME_MOTORCYCLE'] = df_analysis.apply(lambda row: row['BLIGHT_LIST'].count('TRAFFIC VIOLATIONS-MOTORCYCLE VIOLATIONS'), axis=1)   \n",
    "df_analysis['CRIME_PROPERTY'] = df_analysis.apply(lambda row: row['BLIGHT_LIST'].count('DAMAGE TO PROPERTY'), axis=1)\n",
    "df_analysis['CRIME_ASSAULT'] = df_analysis.apply(lambda row: row['BLIGHT_LIST'].count('ASSAULT'), axis=1)\n",
    "df_analysis['CRIME_STOLENVEHICLE'] = df_analysis.apply(lambda row: row['BLIGHT_LIST'].count('STOLEN VEHICLE'), axis=1)\n",
    "df_analysis['CRIME_LARCENY'] = df_analysis.apply(lambda row: row['BLIGHT_LIST'].count('LARCENY'), axis=1)\n",
    "df_analysis['CRIME_BURGLARY'] = df_analysis.apply(lambda row: row['BLIGHT_LIST'].count('BURGLARY'), axis=1) \n",
    "df_analysis['CRIME_AGGASSAULT'] = df_analysis.apply(lambda row: row['BLIGHT_LIST'].count('AGGRAVATED ASSAULT'), axis=1)\n",
    "df_analysis['CRIME_FRAUD'] = df_analysis.apply(lambda row: row['BLIGHT_LIST'].count('FRAUD'), axis=1)\n",
    "df_analysis['CRIME_DRUGS'] = df_analysis.apply(lambda row: row['BLIGHT_LIST'].count('DANGEROUS DRUGS'), axis=1)"
   ]
  },
  {
   "cell_type": "code",
   "execution_count": 17,
   "metadata": {
    "collapsed": true
   },
   "outputs": [],
   "source": [
    "df_analysis.to_csv('./analysis_forR.csv')"
   ]
  }
 ],
 "metadata": {
  "kernelspec": {
   "display_name": "Python 2",
   "language": "python",
   "name": "python2"
  },
  "language_info": {
   "codemirror_mode": {
    "name": "ipython",
    "version": 2
   },
   "file_extension": ".py",
   "mimetype": "text/x-python",
   "name": "python",
   "nbconvert_exporter": "python",
   "pygments_lexer": "ipython2",
   "version": "2.7.11"
  }
 },
 "nbformat": 4,
 "nbformat_minor": 0
}
