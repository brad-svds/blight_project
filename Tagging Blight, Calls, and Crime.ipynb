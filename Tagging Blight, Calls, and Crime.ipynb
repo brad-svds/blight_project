{
 "cells": [
  {
   "cell_type": "markdown",
   "metadata": {},
   "source": [
    "## Tagging Blight, Calls, and Crime\n",
    "\n",
    "We first created a dataset of building properties that included \"blighted\" tags. Of the ~384K records, we obtained 810 matches with a difference of .0002 between both the LAT and LON fields. In R, we reduced this ~384K dataset to 1620 records: 810 positives and 810 falses. \n",
    "\n",
    "This file was saved as \"analysis_full.csv\" and then run through this python script to add fields for blight complaints, crime calls, and 311 calls. This information will be the basis of the model."
   ]
  },
  {
   "cell_type": "code",
   "execution_count": null,
   "metadata": {
    "collapsed": true
   },
   "outputs": [],
   "source": [
    "import pandas as pd"
   ]
  },
  {
   "cell_type": "code",
   "execution_count": null,
   "metadata": {
    "collapsed": true
   },
   "outputs": [],
   "source": [
    "df_blight_viols_clean = pd.read_csv('~/Projects/datasci_course_materials/capstone/blight/data/blight_violations_clean.csv' )\n",
    "df_city_calls_clean = pd.read_csv('~/Projects/datasci_course_materials/capstone/blight/data/city_calls_clean.csv' )\n",
    "df_crime_clean = pd.read_csv('~/Projects/datasci_course_materials/capstone/blight/data/detroit-crime.csv' )\n",
    "\n",
    "df_analysis = pd.read_csv('~/Projects/datasci_course_materials/capstone/blight/data/analysis_full.csv' )"
   ]
  },
  {
   "cell_type": "code",
   "execution_count": null,
   "metadata": {
    "collapsed": true
   },
   "outputs": [],
   "source": [
    "def listBlight(lat, lon, i):\n",
    "    \n",
    "    # Store indices of matches here\n",
    "    blight_found = []\n",
    "    \n",
    "    # Loop over other dataframe\n",
    "    for ViolDescription, row in df_blight_viols_clean.iterrows():\n",
    "        \n",
    "        # Store matches\n",
    "        if ( (lat-row['LAT'])**2 + (lon-row['LON'])**2 )**(0.5) < .0002:\n",
    "            \n",
    "            blight_found.append(row['ViolDescription'])\n",
    "    \n",
    "    # Set counter here\n",
    "    if i%10 == 0:\n",
    "        print i\n",
    "        \n",
    "    # Return list of calls found\n",
    "    return blight_found"
   ]
  },
  {
   "cell_type": "code",
   "execution_count": null,
   "metadata": {
    "collapsed": true
   },
   "outputs": [],
   "source": [
    "def listCalls(lat, lon, i):\n",
    "    \n",
    "    \n",
    "    # Store indices of matches here\n",
    "    calls_found = []\n",
    "    \n",
    "    # Loop over other dataframe\n",
    "    for issue_type, row in df_city_calls_clean.iterrows():\n",
    "        \n",
    "        # Store matches\n",
    "        if ( (lat-row['LAT'])**2 + (lon-row['LON'])**2 )**(0.5) < .0002:\n",
    "            \n",
    "            calls_found.append(row['issue_type'])\n",
    "    \n",
    "    # Set counter here\n",
    "    if i%100 == 0:\n",
    "        print i\n",
    "        \n",
    "    # Return list of calls found\n",
    "    return calls_found"
   ]
  },
  {
   "cell_type": "code",
   "execution_count": null,
   "metadata": {
    "collapsed": true
   },
   "outputs": [],
   "source": [
    "def listCrime(lat, lon, i):\n",
    "    \n",
    "    # Store indices of matches here\n",
    "    crime_found = []\n",
    "    \n",
    "    # Loop over other dataframe\n",
    "    for CATEGORY, row in df_crime_clean.iterrows():\n",
    "        \n",
    "        # Store matches\n",
    "        if ( (lat-row['LAT'])**2 + (lon-row['LON'])**2 )**(0.5) < .0002:\n",
    "            \n",
    "            crime_found.append(row['CATEGORY'])\n",
    "    \n",
    "    # Set counter here\n",
    "    if i%10 == 0:\n",
    "        print i\n",
    "        \n",
    "    # Return list of calls found\n",
    "    return crime_found"
   ]
  },
  {
   "cell_type": "code",
   "execution_count": null,
   "metadata": {
    "collapsed": true
   },
   "outputs": [],
   "source": [
    "df_analysis['BLIGHT_LIST'] = df_analysis.apply(lambda row: listBlight(row['LAT'], row['LON'], row['idx']), axis=1)\n",
    "df_analysis['CALL_LIST'] = df_analysis.apply(lambda row: listCalls(row['LAT'], row['LON'], row['idx']), axis=1)\n",
    "df_analysis['CRIME_LIST'] = df_analysis.apply(lambda row: listCrime(row['LAT'], row['LON'], row['idx']), axis=1)\n",
    "df_analysis.to_csv('./analysis_full.csv')"
   ]
  }
 ],
 "metadata": {
  "kernelspec": {
   "display_name": "Python 2",
   "language": "python",
   "name": "python2"
  },
  "language_info": {
   "codemirror_mode": {
    "name": "ipython",
    "version": 2
   },
   "file_extension": ".py",
   "mimetype": "text/x-python",
   "name": "python",
   "nbconvert_exporter": "python",
   "pygments_lexer": "ipython2",
   "version": "2.7.11"
  }
 },
 "nbformat": 4,
 "nbformat_minor": 0
}
