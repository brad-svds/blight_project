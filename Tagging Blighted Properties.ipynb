{
 "cells": [
  {
   "cell_type": "markdown",
   "metadata": {},
   "source": [
    "## Tagging Blighted Properties\n",
    "\n",
    "Once each dataset has been cleaned so that there are individual columns for Latitude and Longitude, we can begin to match individual records against one another. \n",
    "\n",
    "To create the master dataset, we take a set of individual building records from the [City of Detroit's Open Data website][https://data.detroitmi.gov/]. We then take the cleaned demolition permit data and run a loop against the LAT and LON data to find matches. \n",
    "\n",
    "We are left with 810 positive matches from the ~7100 records available in the demo permits dataset. "
   ]
  },
  {
   "cell_type": "code",
   "execution_count": null,
   "metadata": {
    "collapsed": true
   },
   "outputs": [],
   "source": [
    "import pandas as pd"
   ]
  },
  {
   "cell_type": "code",
   "execution_count": null,
   "metadata": {
    "collapsed": true
   },
   "outputs": [],
   "source": [
    "df_demo_permits_clean = pd.read_csv('~/Projects/datasci_course_materials/capstone/blight/data/demo_permits_clean.csv')\n",
    "df_Parcel_Points_Ownership = pd.read_csv('~/Projects/datasci_course_materials/capstone/blight/data/Parcel_Points_Ownership.csv' )"
   ]
  },
  {
   "cell_type": "code",
   "execution_count": null,
   "metadata": {
    "collapsed": true
   },
   "outputs": [],
   "source": [
    "df_locations = pd.DataFrame(columns=['LAT','LON'])"
   ]
  },
  {
   "cell_type": "code",
   "execution_count": null,
   "metadata": {
    "collapsed": true
   },
   "outputs": [],
   "source": [
    "df_locations['LAT'] = df_Parcel_Points_Ownership['Latitude']\n",
    "df_locations['LON'] = df_Parcel_Points_Ownership['Longitude']\n",
    "df_locations['idx'] = df_locations.index"
   ]
  },
  {
   "cell_type": "code",
   "execution_count": null,
   "metadata": {
    "collapsed": true
   },
   "outputs": [],
   "source": [
    "def listNeighbors(lat, lon, i):\n",
    "    \n",
    "    # Store indices of matches here\n",
    "    neighbors_found = []\n",
    "    \n",
    "    # Loop over other dataframe\n",
    "    for index, row in df_demo_permits_clean.iterrows():\n",
    "        \n",
    "        # Store matches\n",
    "        if ( (lat-row['LAT'])**2 + (lon-row['LON'])**2 )**(0.5) < .0002:\n",
    "            neighbors_found.append(index)\n",
    "    \n",
    "    # Set counter here\n",
    "    if i%10 == 0:\n",
    "        print i\n",
    "        \n",
    "    # Return list of neighbors found\n",
    "    return neighbors_found"
   ]
  },
  {
   "cell_type": "code",
   "execution_count": null,
   "metadata": {
    "collapsed": true
   },
   "outputs": [],
   "source": [
    "df_locations['NBR_LIST'] = df_locations.apply(lambda row: listNeighbors(row['LAT'], row['LON'], row['idx']), axis=1)\n",
    "df_locations['NBR_COUNT'] = df_locations['NBR_LIST'].apply(lambda x: len(x))\n",
    "df_locations['NBR_MATCH'] = df_locations['NBR_LIST'].apply(lambda x: bool(len(x)) )"
   ]
  }
 ],
 "metadata": {
  "kernelspec": {
   "display_name": "Python 2",
   "language": "python",
   "name": "python2"
  },
  "language_info": {
   "codemirror_mode": {
    "name": "ipython",
    "version": 2
   },
   "file_extension": ".py",
   "mimetype": "text/x-python",
   "name": "python",
   "nbconvert_exporter": "python",
   "pygments_lexer": "ipython2",
   "version": "2.7.11"
  }
 },
 "nbformat": 4,
 "nbformat_minor": 0
}
